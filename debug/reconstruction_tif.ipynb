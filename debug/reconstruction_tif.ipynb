{
 "cells": [
  {
   "cell_type": "code",
   "execution_count": 19,
   "metadata": {},
   "outputs": [
    {
     "name": "stderr",
     "output_type": "stream",
     "text": [
      "  0%|          | 0/3594 [00:00<?, ?it/s]/home/hh/miniconda3/envs/hh_torch/lib/python3.8/site-packages/rasterio/__init__.py:314: NotGeoreferencedWarning: Dataset has no geotransform, gcps, or rpcs. The identity matrix will be returned.\n",
      "  dataset = writer(\n",
      "100%|██████████| 3594/3594 [00:22<00:00, 162.33it/s]\n"
     ]
    }
   ],
   "source": [
    "import tifffile as tiff\n",
    "from pathlib import Path\n",
    "from tqdm import tqdm\n",
    "import rasterio as rio\n",
    "img_dir = Path('/home/hh/container/code/fusion/data/spatio_temporal_fusion/CIA/private_data/syy_setting-9')\n",
    "save_dir = Path('data/syy_setting-9')\n",
    "img_path_list = sorted([p for p in img_dir.rglob('*.tif')])\n",
    "\n",
    "for img_path in tqdm(img_path_list):\n",
    "    img = tiff.imread(str(img_path))\n",
    "    img = img.transpose(2,0,1)\n",
    "    c,h,w = img.shape\n",
    "    sub_path = img_path.relative_to(img_dir)\n",
    "    save_path = save_dir / sub_path\n",
    "    save_path.parent.mkdir(parents=True, exist_ok=True)\n",
    "    with rio.open(save_path, mode='w', driver='GTiff', width=w, height=h, count=c, dtype=img.dtype) as f:\n",
    "        f.write(img)\n",
    " "
   ]
  },
  {
   "cell_type": "code",
   "execution_count": 14,
   "metadata": {},
   "outputs": [
    {
     "data": {
      "text/plain": [
       "(6, 256, 256)"
      ]
     },
     "execution_count": 14,
     "metadata": {},
     "output_type": "execute_result"
    }
   ],
   "source": [
    "img.shape"
   ]
  }
 ],
 "metadata": {
  "kernelspec": {
   "display_name": "hh_torch",
   "language": "python",
   "name": "python3"
  },
  "language_info": {
   "codemirror_mode": {
    "name": "ipython",
    "version": 3
   },
   "file_extension": ".py",
   "mimetype": "text/x-python",
   "name": "python",
   "nbconvert_exporter": "python",
   "pygments_lexer": "ipython3",
   "version": "3.8.13"
  }
 },
 "nbformat": 4,
 "nbformat_minor": 2
}
