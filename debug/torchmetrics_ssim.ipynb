{
 "cells": [
  {
   "cell_type": "code",
   "execution_count": 9,
   "metadata": {},
   "outputs": [
    {
     "name": "stdout",
     "output_type": "stream",
     "text": [
      "ssim_cpu: tensor(0.0064)\n",
      "ssim_cuda: tensor(0.0053, device='cuda:0')\n",
      "torchmetrics.__version__: 0.11.4\n",
      "torch.__version__: 1.10.0\n",
      "torch.cuda.get_device_name(0): NVIDIA GeForce RTX 3090\n"
     ]
    }
   ],
   "source": [
    "from torchmetrics import StructuralSimilarityIndexMeasure\n",
    "import torch\n",
    "import torchmetrics\n",
    "import os \n",
    "os.environ['CUDA_VISIBLE_DEVICES'] = '2'\n",
    "preds = torch.rand([16, 3, 256, 256], generator=torch.manual_seed(42)).to('cpu')\n",
    "target = torch.rand([16, 3, 256, 256], generator=torch.manual_seed(123)).to('cpu')\n",
    "ssim_cpu = StructuralSimilarityIndexMeasure(data_range=1.0)\n",
    "\n",
    "ssim_cuda = StructuralSimilarityIndexMeasure(data_range=1.0).to('cuda')\n",
    "preds_cuda = preds.clone().cuda()\n",
    "target_cuda = target.clone().cuda()\n",
    "\n",
    "# from torchmetrics.image.ssim import _ssim_update\n",
    "# _ssim_update(preds_cuda, target_cuda)\n",
    "print('ssim_cpu:',ssim_cpu(preds,target))\n",
    "print('ssim_cuda:', ssim_cuda(preds_cuda, target_cuda))\n",
    "print('torchmetrics.__version__:', torchmetrics.__version__)\n",
    "print('torch.__version__:', torch.__version__)\n",
    "print('torch.cuda.get_device_name(0):', torch.cuda.get_device_name(0))"
   ]
  },
  {
   "cell_type": "code",
   "execution_count": 7,
   "metadata": {},
   "outputs": [
    {
     "data": {
      "text/plain": [
       "((1792, 1280, 3), (1792, 1280, 3))"
      ]
     },
     "execution_count": 7,
     "metadata": {},
     "output_type": "execute_result"
    }
   ],
   "source": [
    "import tifffile as tiff\n",
    "\n",
    "a = tiff.imread('/mnt/source/songyiyao/code/FusionLab/data/spatio_temporal_fusion/CIA/private_data/syy_setting-8/test/full/Landsat_01/Group_01_L_.tif')\n",
    "b = tiff.imread('/mnt/source/songyiyao/code/FusionLab/data/spatio_temporal_fusion/CIA/private_data/syy_setting-8/test/full/MODIS_01/Group_01_M_.tif')\n",
    "a.shape, b.shape"
   ]
  }
 ],
 "metadata": {
  "kernelspec": {
   "display_name": "pytorch",
   "language": "python",
   "name": "python3"
  },
  "language_info": {
   "codemirror_mode": {
    "name": "ipython",
    "version": 3
   },
   "file_extension": ".py",
   "mimetype": "text/x-python",
   "name": "python",
   "nbconvert_exporter": "python",
   "pygments_lexer": "ipython3",
   "version": "3.8.13"
  },
  "orig_nbformat": 4
 },
 "nbformat": 4,
 "nbformat_minor": 2
}
