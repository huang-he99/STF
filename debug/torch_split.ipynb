{
 "cells": [
  {
   "cell_type": "code",
   "execution_count": 6,
   "metadata": {},
   "outputs": [
    {
     "name": "stdout",
     "output_type": "stream",
     "text": [
      "(tensor([[[ 1.3073, -0.9057,  1.9188,  0.4043],\n",
      "         [-0.2036,  0.5356, -1.5326, -0.5164],\n",
      "         [-0.1741, -0.4115,  2.4143, -0.4401]]]), tensor([[[-0.1606,  1.3446, -1.4419,  1.9195],\n",
      "         [-0.4346,  0.1689, -1.0612,  2.4788],\n",
      "         [-0.3319, -0.7429,  0.1999, -0.4916]]]))\n",
      "(tensor([[[-1.4917, -0.3093, -1.3211,  0.4431],\n",
      "         [ 1.6219, -0.8467, -0.9758, -1.0870],\n",
      "         [-0.0535, -1.6068, -2.0192, -1.0155]]]), tensor([[[ 0.0223, -0.9442, -0.5242, -0.7111],\n",
      "         [-0.5323,  1.0232, -0.1715, -1.9396],\n",
      "         [ 0.1376,  0.3005,  1.4703,  2.0567]]]))\n",
      "torch.Size([1, 3, 4]) torch.Size([1, 3, 4])\n",
      "tensor([[[ 1.3073, -0.9057,  1.9188,  0.4043],\n",
      "         [-0.2036,  0.5356, -1.5326, -0.5164],\n",
      "         [-0.1741, -0.4115,  2.4143, -0.4401]]]) tensor([[[-1.4917, -0.3093, -1.3211,  0.4431],\n",
      "         [ 1.6219, -0.8467, -0.9758, -1.0870],\n",
      "         [-0.0535, -1.6068, -2.0192, -1.0155]]])\n",
      "\n",
      "torch.Size([1, 3, 4]) torch.Size([1, 3, 4])\n",
      "tensor([[[-0.1606,  1.3446, -1.4419,  1.9195],\n",
      "         [-0.4346,  0.1689, -1.0612,  2.4788],\n",
      "         [-0.3319, -0.7429,  0.1999, -0.4916]]]) tensor([[[ 0.0223, -0.9442, -0.5242, -0.7111],\n",
      "         [-0.5323,  1.0232, -0.1715, -1.9396],\n",
      "         [ 0.1376,  0.3005,  1.4703,  2.0567]]])\n",
      "\n"
     ]
    }
   ],
   "source": [
    "import torch\n",
    "\n",
    "a = torch.randn(2,3,4)\n",
    "b = torch.randn(2,3,4)\n",
    "\n",
    "a_split_0 = torch.split(a,split_size_or_sections=1, dim=0)\n",
    "b_split_0 = torch.split(b,split_size_or_sections=1, dim=0)\n",
    "\n",
    "ab_split_0 = zip(a_split_0, b_split_0,b_split_0)\n",
    "print(a_split_0)\n",
    "print(b_split_0)\n",
    "for a_split, b_split,c_split_0 in ab_split_0:\n",
    "    print(a_split.shape, b_split.shape)\n",
    "    print(a_split, b_split)\n",
    "    print()"
   ]
  }
 ],
 "metadata": {
  "kernelspec": {
   "display_name": "hh_pytorch",
   "language": "python",
   "name": "python3"
  },
  "language_info": {
   "codemirror_mode": {
    "name": "ipython",
    "version": 3
   },
   "file_extension": ".py",
   "mimetype": "text/x-python",
   "name": "python",
   "nbconvert_exporter": "python",
   "pygments_lexer": "ipython3",
   "version": "3.8.13"
  },
  "orig_nbformat": 4
 },
 "nbformat": 4,
 "nbformat_minor": 2
}
