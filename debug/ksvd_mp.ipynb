{
 "cells": [
  {
   "cell_type": "code",
   "execution_count": 1,
   "metadata": {},
   "outputs": [
    {
     "name": "stderr",
     "output_type": "stream",
     "text": [
      "ERROR:tornado.general:SEND Error: Host unreachable\n"
     ]
    }
   ],
   "source": [
    "import sys\n",
    "sys.path.append('..')\n",
    "from skimage import io,data\n",
    "from src.model.spstfm.ksvd import KSVD\n",
    "import torch\n",
    "import os\n",
    "import numpy as np\n",
    "import random\n",
    "import multiprocessing as mp\n",
    "\n",
    "rng_seed = 42\n",
    "random.seed(rng_seed)\n",
    "np.random.seed(rng_seed)\n",
    "torch.manual_seed(rng_seed)\n",
    "torch.cuda.manual_seed(rng_seed)\n",
    "\n",
    "\n",
    "img=data.astronaut()\n",
    "img = img / 255.0\n",
    "img_mean = np.mean(img, axis=(0, 1), keepdims=True)\n",
    "img_std = np.std(img, axis=(0, 1), keepdims=True)\n",
    "img_norm = (img - img_mean) / (img_std + 1e-10)\n",
    "\n",
    "img_norm = torch.from_numpy(img_norm).permute(2, 0, 1).unsqueeze(0).float()\n",
    "img_patch = torch.nn.Unfold(kernel_size=8, stride=8)(img_norm)\n",
    "img_patch = img_patch.reshape(3, 64, -1)\n",
    "img_samples = img_patch.numpy()\n",
    "\n",
    "n_components = 256\n",
    "sparsity = 25\n",
    "max_iter = 100\n",
    "ksvd = KSVD(n_components=n_components, sparsity=sparsity, init_method='data_elements', max_iter=max_iter)\n",
    "\n",
    "def work(i,img_samples_per_channel):\n",
    "    # img_samples_per_channel = img_samples[i]\n",
    "    print(mp.current_process().name)\n",
    "    dictionary_matrix_per_channel, sparsity_matrix_per_channel = ksvd.fit(img_samples_per_channel)\n",
    "    return dictionary_matrix_per_channel, sparsity_matrix_per_channel\n",
    "    \n",
    "import time\n",
    "start = time.perf_counter()\n",
    "pool = mp.Pool(processes=3)\n",
    "results = pool.starmap(work, [(i,img_samples[i]) for i in range(3)])\n",
    "end = time.perf_counter()\n",
    "print(end-start)\n",
    "# [pool.apply_async(work, args=(i,img_samples[i])).get() for i in range(3)]  \n",
    "# pool.close()\n",
    "# pool.join()\n",
    "# for i in range(3):\n",
    "#     img_samples_per_channel = img_samples[i]\n",
    "#     dictionary_matrix_per_channel, sparsity_matrix_per_channel = ksvd.fit(img_samples_per_channel)\n",
    "    # dictionary_matrix[i] = dictionary_matrix_per_channel\n",
    "    # sparsity_matrix[i] = sparsity_matrix_per_channel\n"
   ]
  }
 ],
 "metadata": {
  "kernelspec": {
   "display_name": "hh_pytorch",
   "language": "python",
   "name": "python3"
  },
  "language_info": {
   "codemirror_mode": {
    "name": "ipython",
    "version": 3
   },
   "file_extension": ".py",
   "mimetype": "text/x-python",
   "name": "python",
   "nbconvert_exporter": "python",
   "pygments_lexer": "ipython3",
   "version": "3.8.13"
  },
  "orig_nbformat": 4
 },
 "nbformat": 4,
 "nbformat_minor": 2
}
