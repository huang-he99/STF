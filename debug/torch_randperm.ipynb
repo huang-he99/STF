{
 "cells": [
  {
   "cell_type": "code",
   "execution_count": 34,
   "metadata": {},
   "outputs": [
    {
     "data": {
      "text/plain": [
       "(tensor([0.0000, 3.0000, 1.0000, 2.0000]), 4)"
      ]
     },
     "execution_count": 34,
     "metadata": {},
     "output_type": "execute_result"
    }
   ],
   "source": [
    "import torch\n",
    "\n",
    "x = torch.Tensor([0,3,1,2])\n",
    "A = torch.Tensor([[-0.8,0.3,1,0.4],[-0.2,0.4,-0.3,-0.4],[0.2,1,-0.1,0.8]])\n",
    "y = A @ x\n",
    "\n",
    "# y = Dx\n",
    "def orthogonal_matching_pursuit(compressed_vector, compression_matrix, sparsity):\n",
    "    # initialize\n",
    "    compression_matrix_norm = torch.norm(compression_matrix, dim=0, keepdim=True)\n",
    "    unit_compression_matrix = compression_matrix / compression_matrix_norm\n",
    "    subsapce_index_list = []\n",
    "    residual = compressed_vector\n",
    "    k = 1\n",
    "    sparsity_vecotr = torch.zeros(compression_matrix.shape[1])\n",
    "    err = torch.abs(residual).sum()\n",
    "    while k <= sparsity and err > 1e-5:\n",
    "        residual_projection_matrix = torch.abs(unit_compression_matrix.T @ residual)\n",
    "        _, matching_basis_index = torch.max(residual_projection_matrix, dim=0)\n",
    "        subsapce_index_list.append(matching_basis_index.item())\n",
    "        subspace_matrix = compression_matrix[:, subsapce_index_list]\n",
    "        subspace_matrix_pinv = torch.pinverse(subspace_matrix)\n",
    "        subspace_coordinates = subspace_matrix_pinv @ compressed_vector\n",
    "        subspace_representation = subspace_matrix @ subspace_coordinates\n",
    "        residual = compressed_vector - subspace_representation\n",
    "        err = torch.abs(residual).sum()\n",
    "        k += 1\n",
    "    sparsity_vecotr[subsapce_index_list] = subspace_coordinates\n",
    "    return sparsity_vecotr, k\n",
    "\n",
    "orthogonal_matching_pursuit(y,A, sparsity=3)\n"
   ]
  },
  {
   "cell_type": "code",
   "execution_count": 39,
   "metadata": {},
   "outputs": [
    {
     "data": {
      "text/plain": [
       "(tensor([2.7000, 0.1000, 4.5000]),\n",
       " tensor([0., 3., 1., 2.]),\n",
       " tensor([[-0.8000,  0.3000,  1.0000,  0.4000],\n",
       "         [-0.2000,  0.4000, -0.3000, -0.4000],\n",
       "         [ 0.2000,  1.0000, -0.1000,  0.8000]]))"
      ]
     },
     "execution_count": 39,
     "metadata": {},
     "output_type": "execute_result"
    }
   ],
   "source": [
    "y,x,A"
   ]
  },
  {
   "cell_type": "code",
   "execution_count": 42,
   "metadata": {},
   "outputs": [
    {
     "data": {
      "text/plain": [
       "tensor([[ 1.0000e+00, -9.5894e-08,  2.0784e-09],\n",
       "        [-8.8957e-08,  1.0000e+00,  1.5202e-07],\n",
       "        [-3.8111e-08,  1.3046e-07,  1.0000e+00]])"
      ]
     },
     "execution_count": 42,
     "metadata": {},
     "output_type": "execute_result"
    }
   ],
   "source": [
    "# Y = DX\n",
    "# y = Dx\n",
    "def orthogonal_matching_pursuit(compressed_vector, compression_matrix, sparsity):\n",
    "    # initialize\n",
    "    compression_matrix_norm = torch.norm(compression_matrix, dim=0, keepdim=True)\n",
    "    unit_compression_matrix = compression_matrix / compression_matrix_norm\n",
    "    subsapce_index_list = []\n",
    "    residual = compressed_vector\n",
    "    k = 1\n",
    "    sparsity_vecotr = torch.zeros(compression_matrix.shape[1])\n",
    "    err = torch.abs(residual).sum()\n",
    "    while k <= sparsity and err > 1e-5:\n",
    "        residual_projection_matrix = torch.abs(unit_compression_matrix.T @ residual)\n",
    "        _, matching_basis_index = torch.max(residual_projection_matrix, dim=0)\n",
    "        subsapce_index_list.append(matching_basis_index.item())\n",
    "        subspace_matrix = compression_matrix[:, subsapce_index_list]\n",
    "        subspace_matrix_pinv = torch.pinverse(subspace_matrix)\n",
    "        subspace_coordinates = subspace_matrix_pinv @ compressed_vector\n",
    "        subspace_representation = subspace_matrix @ subspace_coordinates\n",
    "        residual = compressed_vector - subspace_representation\n",
    "        err = torch.abs(residual).sum()\n",
    "        k += 1\n",
    "    sparsity_vecotr[subsapce_index_list] = subspace_coordinates\n",
    "    return sparsity_vecotr, k"
   ]
  }
 ],
 "metadata": {
  "kernelspec": {
   "display_name": "hh_pytorch",
   "language": "python",
   "name": "python3"
  },
  "language_info": {
   "codemirror_mode": {
    "name": "ipython",
    "version": 3
   },
   "file_extension": ".py",
   "mimetype": "text/x-python",
   "name": "python",
   "nbconvert_exporter": "python",
   "pygments_lexer": "ipython3",
   "version": "3.8.13"
  },
  "orig_nbformat": 4
 },
 "nbformat": 4,
 "nbformat_minor": 2
}
