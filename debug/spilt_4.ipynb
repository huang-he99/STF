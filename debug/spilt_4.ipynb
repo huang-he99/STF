{
 "cells": [
  {
   "cell_type": "code",
   "execution_count": 7,
   "metadata": {},
   "outputs": [],
   "source": [
    "from pathlib import Path\n",
    "import tifffile as tiff\n",
    "\n",
    "root = Path('/home/hh/container/code/fusion/data/spatio_temporal_fusion/LGC/private_data/syy_setting-9/test/full')\n",
    "save_root = Path('/home/hh/container/code/fusion//data/spatio_temporal_fusion/LGC/fout_parts/private_data/syy_setting-9/test/full')\n",
    "save_root.mkdir(parents=True, exist_ok=True)\n",
    "img_path_list = root.rglob('*.tif')\n",
    "for img_path in img_path_list:\n",
    "    img = tiff.imread(img_path)\n",
    "    h,w,c = img.shape\n",
    "    for i in range(2):\n",
    "        for j in range(2):\n",
    "            img_patch = img[i*h//2:(i+1)*h//2, j*w//2:(j+1)*w//2, :]\n",
    "            save_name = img_path.stem+f'_{i*h//2}_{(i+1)*h//2}_{j*w//2}_{(j+1)*w//2}'+img_path.suffix\n",
    "            save_dir_path = save_root / img_path.parts[-2]\n",
    "            save_dir_path.mkdir(parents=True, exist_ok=True)\n",
    "            save_path = save_dir_path / save_name\n",
    "            tiff.imwrite(save_path, img_patch)\n",
    "    # save_dir_path = save_root / img_path.parts[-3] / img_path.parts[-2]  \n",
    "    # save_dir_path.mkdir(parents=True, exist_ok=True)\n",
    "    # save_path = save_dir_path / img_path.parts[-1]\n",
    "    # tiff.imwrite((save_path), img)"
   ]
  },
  {
   "cell_type": "code",
   "execution_count": 8,
   "metadata": {},
   "outputs": [
    {
     "data": {
      "text/plain": [
       "(2560, 3072, 6)"
      ]
     },
     "execution_count": 8,
     "metadata": {},
     "output_type": "execute_result"
    }
   ],
   "source": [
    "img.shape"
   ]
  }
 ],
 "metadata": {
  "kernelspec": {
   "display_name": "hh_torch",
   "language": "python",
   "name": "python3"
  },
  "language_info": {
   "codemirror_mode": {
    "name": "ipython",
    "version": 3
   },
   "file_extension": ".py",
   "mimetype": "text/x-python",
   "name": "python",
   "nbconvert_exporter": "python",
   "pygments_lexer": "ipython3",
   "version": "3.8.13"
  },
  "orig_nbformat": 4
 },
 "nbformat": 4,
 "nbformat_minor": 2
}
